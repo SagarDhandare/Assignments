{
 "cells": [
  {
   "cell_type": "code",
   "execution_count": 1,
   "metadata": {},
   "outputs": [],
   "source": [
    "import pandas as pd\n",
    "import numpy as np\n",
    "import statistics"
   ]
  },
  {
   "cell_type": "markdown",
   "metadata": {},
   "source": [
    "#### Calculate the mean, median, mode and standard deviation for the problem statements 1 & 2."
   ]
  },
  {
   "cell_type": "markdown",
   "metadata": {},
   "source": [
    "### Problem Statement 1:\n",
    "The marks awarded for an assignment set for a Year 8 class of 20 students were as\n",
    "follows:\n",
    "6 7 5 7 7 8 7 6 9 7 4 10 6 8 8 9 5 6 4 8"
   ]
  },
  {
   "cell_type": "code",
   "execution_count": 2,
   "metadata": {},
   "outputs": [
    {
     "name": "stdout",
     "output_type": "stream",
     "text": [
      "Mean is : 6.85\n",
      "Median is : 7.0\n",
      "Mode is : 7\n",
      "Standard Deviation is : 1.631111987507134\n"
     ]
    }
   ],
   "source": [
    "l = [6, 7, 5, 7, 7, 8, 7, 6, 9, 7, 4, 10, 6, 8, 8, 9, 5, 6, 4, 8]\n",
    "df = pd.DataFrame(l)\n",
    "\n",
    "print(\"Mean is :\", df.mean()[0])\n",
    "print(\"Median is :\", df.median()[0])\n",
    "print(\"Mode is :\", df.mode()[0][0])\n",
    "print(\"Standard Deviation is :\", df.std()[0])"
   ]
  },
  {
   "cell_type": "code",
   "execution_count": 3,
   "metadata": {},
   "outputs": [
    {
     "data": {
      "text/plain": [
       "1.6311119875071343"
      ]
     },
     "execution_count": 3,
     "metadata": {},
     "output_type": "execute_result"
    }
   ],
   "source": [
    "# We can also find Standard Deviation as\n",
    "import statistics\n",
    "statistics.stdev(l)"
   ]
  },
  {
   "cell_type": "markdown",
   "metadata": {},
   "source": [
    "### Problem Statement 2:\n",
    "The number of calls from motorists per day for roadside service was recorded for a\n",
    "particular month:\n",
    "28, 122, 217, 130, 120, 86, 80, 90, 140, 120, 70, 40, 145, 113, 90, 68, 174, 194, 170,\n",
    "100, 75, 104, 97, 75,\n",
    "123, 100, 75, 104, 97, 75, 123, 100, 89, 120, 109"
   ]
  },
  {
   "cell_type": "code",
   "execution_count": 4,
   "metadata": {},
   "outputs": [
    {
     "name": "stdout",
     "output_type": "stream",
     "text": [
      "Mean is : 107.51428571428572\n",
      "Median is : 100.0\n",
      "Mode is : 75\n",
      "Standard Deviation is : 39.33892805484412\n"
     ]
    }
   ],
   "source": [
    "l = [28, 122, 217, 130, 120, 86, 80, 90, 140, 120, 70, 40, 145, 113, 90, 68, 174, 194, 170, 100, 75, 104, 97, 75, \n",
    "     123, 100, 75, 104, 97, 75, 123, 100, 89, 120, 109]\n",
    "df = pd.DataFrame(l)\n",
    "\n",
    "print(\"Mean is :\", df.mean()[0])\n",
    "print(\"Median is :\", df.median()[0])\n",
    "print(\"Mode is :\", df.mode()[0][0])\n",
    "print(\"Standard Deviation is :\", df.std()[0])"
   ]
  },
  {
   "cell_type": "code",
   "execution_count": 5,
   "metadata": {},
   "outputs": [
    {
     "data": {
      "text/plain": [
       "39.33892805484412"
      ]
     },
     "execution_count": 5,
     "metadata": {},
     "output_type": "execute_result"
    }
   ],
   "source": [
    "# We can also find Standard Deviation as\n",
    "statistics.stdev(l)"
   ]
  },
  {
   "cell_type": "markdown",
   "metadata": {},
   "source": [
    "### Problem Statement 3:\n",
    "The number of times I go to the gym in weekdays, are given below along with its\n",
    "associated probability:\n",
    "x = 0, 1, 2, 3, 4, 5\n",
    "f(x) = 0.09, 0.15, 0.40, 0.25, 0.10, 0.01\n",
    "Calculate the mean no. of workouts in a week. Also evaluate the variance involved in\n",
    "it."
   ]
  },
  {
   "cell_type": "code",
   "execution_count": 6,
   "metadata": {},
   "outputs": [
    {
     "name": "stdout",
     "output_type": "stream",
     "text": [
      "Mean is :  0.16666666666666666\n",
      "Variance is :  0.016088888888888892\n"
     ]
    }
   ],
   "source": [
    "prob = 0.09, 0.15, 0.40, 0.25, 0.10, 0.01\n",
    "\n",
    "mean = sum(prob)/len(prob)\n",
    "print(\"Mean is : \", mean)\n",
    "\n",
    "var = statistics.pvariance(prob)\n",
    "print(\"Variance is : \", var)"
   ]
  },
  {
   "cell_type": "markdown",
   "metadata": {},
   "source": [
    "### Problem Statement 4:\n",
    "Let the continuous random variable D denote the diameter of the hole drilled in an\n",
    "aluminum sheet. The target diameter to be achieved is 12.5mm. Random\n",
    "disturbances in the process often result in inaccuracy.\n",
    "Historical data shows that the distribution of D can be modelled by the PDF (𝑑) =\n",
    "20𝑒−20(𝑑−12.5), 𝑑 ≥ 12.5. If a part with diameter > 12.6 mm needs to be scrapped,\n",
    "what is the proportion of those parts? What is the CDF when the diameter is of 11\n",
    "mm? What is your conclusion regarding the proportion of scraps?"
   ]
  },
  {
   "cell_type": "code",
   "execution_count": null,
   "metadata": {},
   "outputs": [],
   "source": []
  },
  {
   "cell_type": "code",
   "execution_count": null,
   "metadata": {},
   "outputs": [],
   "source": []
  },
  {
   "cell_type": "code",
   "execution_count": null,
   "metadata": {},
   "outputs": [],
   "source": []
  },
  {
   "cell_type": "markdown",
   "metadata": {},
   "source": [
    "### Problem Statement 5:\n",
    "A company manufactures LED bulbs with a faulty rate of 30%. If I randomly select 6\n",
    "chosen LEDs, what is the probability of having 2 faulty LEDs in my sample?\n",
    "Calculate the average value of this process. Also evaluate the standard deviation\n",
    "associated with it"
   ]
  },
  {
   "cell_type": "code",
   "execution_count": 7,
   "metadata": {},
   "outputs": [
    {
     "name": "stdout",
     "output_type": "stream",
     "text": [
      "The probability of having 2 faulty LEDs is : 0.32\n",
      "The standard deviation is : 0.56\n"
     ]
    }
   ],
   "source": [
    "n = 6\n",
    "x = 2\n",
    "p = 0.3\n",
    "\n",
    "print(\"The probability of having 2 faulty LEDs is : 0.32\")\n",
    "print(\"The standard deviation is : 0.56\")"
   ]
  },
  {
   "cell_type": "markdown",
   "metadata": {},
   "source": [
    "### Problem Statement 6:\n",
    "Gaurav and Barakha are both preparing for entrance exams. Gaurav attempts to\n",
    "solve 8 questions per day with a correction rate of 75%, while Barakha averages\n",
    "around 12 questions per day with a correction rate of 45%. What is the probability\n",
    "that each of them will solve 5 questions correctly? What happens in cases of 4 and 6\n",
    "correct solutions? What do you infer from it? What are the two main governing\n",
    "factors affecting their ability to solve questions correctly? Give a pictorial\n",
    "representation of the same to validate your answer."
   ]
  },
  {
   "cell_type": "code",
   "execution_count": 8,
   "metadata": {},
   "outputs": [
    {
     "name": "stdout",
     "output_type": "stream",
     "text": [
      "Gaurav :\n",
      "\t Probability of solve 4 questions correctly is : 0.08\n",
      "\t Probability of solve 5 questions correctly is : 0.20\n",
      "\t Probability of solve 6 questions correctly is : 0.31\n",
      "Barakha :\n",
      "\t Probability of solve 4 questions correctly is : 0.16\n",
      "\t Probability of solve 5 questions correctly is : 0.22\n",
      "\t Probability of solve 6 questions correctly is : 0.21\n"
     ]
    }
   ],
   "source": [
    "# Gaurav : \n",
    "\n",
    "# He attempts to solve 8 questions per day with a correction rate of 75%.\n",
    "n = 8\n",
    "p = 0.75\n",
    "x = 4,5,6\n",
    "\n",
    "print(\"Gaurav :\")\n",
    "print(\"\\t Probability of solve 4 questions correctly is : 0.08\")\n",
    "print(\"\\t Probability of solve 5 questions correctly is : 0.20\")\n",
    "print(\"\\t Probability of solve 6 questions correctly is : 0.31\")\n",
    "\n",
    "\n",
    "# Barakha : \n",
    "\n",
    "# She attempts to solve 12 questions per day with a correction rate of 45%.\n",
    "n = 12\n",
    "p = 0.45\n",
    "x = 4,5,6\n",
    "\n",
    "print(\"Barakha :\")\n",
    "print(\"\\t Probability of solve 4 questions correctly is : 0.16\"),\n",
    "print(\"\\t Probability of solve 5 questions correctly is : 0.22\")\n",
    "print(\"\\t Probability of solve 6 questions correctly is : 0.21\")"
   ]
  },
  {
   "cell_type": "markdown",
   "metadata": {},
   "source": [
    "### Problem Statement 7:\n",
    "Customers arrive at a rate of 72 per hour to my shop. What is the probability of 𝑘\n",
    "customers arriving in 4 minutes? a) 5 customers, b) not more than 3 customers, c)\n",
    "more than 3 customers. Give a pictorial representation of the same to validate your\n",
    "answer.\n"
   ]
  },
  {
   "cell_type": "code",
   "execution_count": 9,
   "metadata": {},
   "outputs": [
    {
     "name": "stdout",
     "output_type": "stream",
     "text": [
      "Probability of 𝑘 customers arriving in 4 minutes is : 5\n"
     ]
    }
   ],
   "source": [
    "# If Customers arrive at a rate of 72 per hour to my shop\n",
    "per_minute = 72/60 == 1.2\n",
    "# Probability of 𝑘 customers arriving in 4 minutes is : \"per_minute*4\"\n",
    "\n",
    "print(\"Probability of 𝑘 customers arriving in 4 minutes is :\", 5)"
   ]
  },
  {
   "cell_type": "markdown",
   "metadata": {},
   "source": [
    "### Problem Statement 8:\n",
    "I work as a data analyst in Aeon Learning Pvt. Ltd. After analyzing data, I make\n",
    "reports, where I have the efficiency of entering 77 words per minute with 6 errors per\n",
    "hour. What is the probability that I will commit 2 errors in a 455-word financial report?\n",
    "What happens when the no. of words increases/decreases (in case of 1000 words,\n",
    "255 words)?\n",
    "How is the 𝜆 affected?\n",
    "How does it influence the PMF?\n",
    "Give a pictorial representation of the same to validate your answer."
   ]
  },
  {
   "cell_type": "code",
   "execution_count": null,
   "metadata": {},
   "outputs": [],
   "source": []
  },
  {
   "cell_type": "code",
   "execution_count": null,
   "metadata": {},
   "outputs": [],
   "source": []
  },
  {
   "cell_type": "markdown",
   "metadata": {},
   "source": [
    "### Problem Statement 9:\n",
    "Let the continuous random variable D denote the diameter of the hole drilled in an\n",
    "aluminum sheet. The target diameter to be achieved is 12.5mm. Random\n",
    "disturbances in the process often result in inaccuracy.\n",
    "Historical data shows that the distribution of D can be modelled by the PDF, f(d) =\n",
    "20e−20(d−12.5), d ≥ 12.5. If a part with diameter > 12.6 mm needs to be scrapped,\n",
    "what is the proportion of those parts? What is the CDF when the diameter is of 11\n",
    "mm?\n",
    "What is the conclusion of this experiment?"
   ]
  },
  {
   "cell_type": "code",
   "execution_count": null,
   "metadata": {},
   "outputs": [],
   "source": []
  },
  {
   "cell_type": "code",
   "execution_count": null,
   "metadata": {},
   "outputs": [],
   "source": []
  },
  {
   "cell_type": "markdown",
   "metadata": {},
   "source": [
    "### Problem Statement 10:\n",
    "Please compute the following:\n",
    "a) P(Z > 1.26), . P(Z < −0.86), P(Z > −1.37), P(−1.25 < Z < 0.37), . P(Z ≤ −4.6)\n",
    "b) Find the value 𝑧 such that 𝑃(𝑍 > 𝑧) = 0.05\n",
    "c) Find the value of 𝑧 such that 𝑃(−𝑧 < 𝑍 < 𝑧) = 0.99"
   ]
  },
  {
   "cell_type": "code",
   "execution_count": 10,
   "metadata": {},
   "outputs": [
    {
     "name": "stdout",
     "output_type": "stream",
     "text": [
      "a : \n",
      "\t P(Z > 1.26)          =  0.1038\n",
      "\t P(Z < −0.86)         =  0.19489\n",
      "\t P(Z > −1.37)         =  0.9146\n",
      "\t P(−1.25 < Z < 0.37)  =  0.8942\n",
      "b :\n",
      "\t The value 𝑧 is 1.65\n",
      "c :\n",
      "\t The value 𝑧 is 2.57\n"
     ]
    }
   ],
   "source": [
    "print(\"a : \")\n",
    "print(\"\\t P(Z > 1.26)          =  0.1038\")\n",
    "print(\"\\t P(Z < −0.86)         =  0.19489\")\n",
    "print(\"\\t P(Z > −1.37)         =  0.9146\")\n",
    "print(\"\\t P(−1.25 < Z < 0.37)  =  0.8942\")\n",
    "\n",
    "print(\"b :\")\n",
    "print(\"\\t The value 𝑧 is 1.65\")\n",
    "\n",
    "print(\"c :\")\n",
    "print(\"\\t The value 𝑧 is 2.57\")"
   ]
  },
  {
   "cell_type": "markdown",
   "metadata": {},
   "source": [
    "### Problem Statement 11:\n",
    "The current flow in a copper wire follow a normal distribution with a mean of 10 𝑚A\n",
    "and a variance of 4 (𝑚𝐴)2.\n",
    "What is the probability that a current measurement will exceed 13 𝑚𝐴? What is the\n",
    "probability that a current measurement is between 9 and 11mA? Determine the\n",
    "current measurement which has a probability of 0.98."
   ]
  },
  {
   "cell_type": "code",
   "execution_count": 11,
   "metadata": {},
   "outputs": [
    {
     "name": "stdout",
     "output_type": "stream",
     "text": [
      "The probability that a current measurement will exceed 13 𝑚𝐴 is = 0\n",
      "The probability that a current measurement is between 9 and 11mA = 0.006\n",
      "The current measurement which has a probability of 0.98 = 2.06\n"
     ]
    }
   ],
   "source": [
    "print(\"The probability that a current measurement will exceed 13 𝑚𝐴 is = 0\")\n",
    "print(\"The probability that a current measurement is between 9 and 11mA = 0.006\")\n",
    "print(\"The current measurement which has a probability of 0.98 = 2.06\")"
   ]
  },
  {
   "cell_type": "code",
   "execution_count": null,
   "metadata": {},
   "outputs": [],
   "source": []
  }
 ],
 "metadata": {
  "kernelspec": {
   "display_name": "Python 3",
   "language": "python",
   "name": "python3"
  },
  "language_info": {
   "codemirror_mode": {
    "name": "ipython",
    "version": 3
   },
   "file_extension": ".py",
   "mimetype": "text/x-python",
   "name": "python",
   "nbconvert_exporter": "python",
   "pygments_lexer": "ipython3",
   "version": "3.8.5"
  }
 },
 "nbformat": 4,
 "nbformat_minor": 4
}
